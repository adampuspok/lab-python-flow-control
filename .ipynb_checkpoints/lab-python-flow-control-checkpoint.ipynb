{
 "cells": [
  {
   "cell_type": "markdown",
   "id": "d3bfc191-8885-42ee-b0a0-bbab867c6f9f",
   "metadata": {
    "tags": []
   },
   "source": [
    "# Lab | Flow Control"
   ]
  },
  {
   "cell_type": "markdown",
   "id": "3851fcd1-cf98-4653-9c89-e003b7ec9400",
   "metadata": {},
   "source": [
    "## Exercise: Managing Customer Orders Optimized\n",
    "\n",
    "In the last lab, you were starting an online store that sells various products. To ensure smooth operations, you developed a program that manages customer orders and inventory.\n",
    "\n",
    "You did so without using flow control. Let's go a step further and improve this code.\n",
    "\n",
    "Follow the steps below to complete the exercise:\n",
    "\n",
    "1. Look at your code from the lab data structures, and improve repeated code with loops.\n",
    "\n",
    "2. Instead of asking the user to input the name of three products that a customer wants to order, do the following:\n",
    "    \n",
    "    a. Prompt the user to enter the name of a product that a customer wants to order.\n",
    "    \n",
    "    b. Add the product name to the \"customer_orders\" set.\n",
    "    \n",
    "    c. Ask the user if they want to add another product (yes/no).\n",
    "    \n",
    "    d. Continue the loop until the user does not want to add another product.\n",
    "\n",
    "3. Instead of updating the inventory by subtracting 1 from the quantity of each product, only do it for  the products that were ordered (those in \"customer_orders\")."
   ]
  },
  {
   "cell_type": "code",
   "execution_count": 71,
   "id": "20f91ef4-4a0f-4f2c-bb6f-3d7b15fbcca3",
   "metadata": {},
   "outputs": [
    {
     "name": "stdout",
     "output_type": "stream",
     "text": [
      "['t-shirt', 'mug', 'hat', 'book', 'keychain']\n"
     ]
    },
    {
     "name": "stdin",
     "output_type": "stream",
     "text": [
      "Enter quantity for t-shirt:  5\n",
      "Enter quantity for mug:  4\n",
      "Enter quantity for hat:  7\n",
      "Enter quantity for book:  2\n",
      "Enter quantity for keychain:  3\n"
     ]
    },
    {
     "name": "stdout",
     "output_type": "stream",
     "text": [
      "{'t-shirt': 5, 'mug': 4, 'hat': 7, 'book': 2, 'keychain': 3}\n"
     ]
    },
    {
     "name": "stdin",
     "output_type": "stream",
     "text": [
      "Do you want to order a product? (yes/no):  yes\n",
      "Enter the product you want to order:  book\n",
      "Do you want to order a product? (yes/no):  yes\n",
      "Enter the product you want to order:  mug\n",
      "Do you want to order a product? (yes/no):  no\n"
     ]
    },
    {
     "name": "stdout",
     "output_type": "stream",
     "text": [
      "\n",
      "Final order list: ['book', 'mug']\n",
      "(2, 10)\n",
      "\n",
      "Order Statistics:\n",
      "Total Products Ordered: 2\n",
      "Percentage of Products Ordered: 10%\n",
      "Updated inventory after the order: {'t-shirt': 5, 'mug': 3, 'hat': 7, 'book': 1, 'keychain': 3}\n"
     ]
    }
   ],
   "source": [
    "#Inventory details\n",
    "products = ['t-shirt', 'mug', 'hat', 'book', 'keychain']\n",
    "print(products)\n",
    "\n",
    "inventory = {}\n",
    "\n",
    "for product in products :\n",
    "    amount = int(input(f\"Enter quantity for {product}: \"))\n",
    "    inventory[product] = amount\n",
    "\n",
    "print(inventory)\n",
    "\n",
    "#instead of set I am creating a list, so multiple products can be stored\n",
    "customer_orders = []\n",
    "\n",
    "#adding items\n",
    "\n",
    "while True:\n",
    "    order = input(\"Do you want to order a product? (yes/no): \")\n",
    "    \n",
    "    if order == \"yes\":\n",
    "        product = input(\"Enter the product you want to order: \")\n",
    "        customer_orders.append(product)\n",
    "    elif order == \"no\":\n",
    "        break\n",
    "    else:\n",
    "        print(\"Invalid input. Please answer with 'yes' or 'no'\")\n",
    "\n",
    "print()\n",
    "print(\"Final order list:\", customer_orders)\n",
    "\n",
    "\n",
    "\n",
    "#order statistics\n",
    "total_ordered = len(customer_orders)\n",
    "total_inventory = sum(inventory.values())\n",
    "percentage_ordered = (total_ordered / total_inventory) * 100\n",
    "\n",
    "order_status = (total_ordered, round(percentage_ordered))\n",
    "print(order_status)\n",
    "\n",
    "print()\n",
    "print(\"Order Statistics:\")\n",
    "print(f\"Total Products Ordered: {total_ordered}\")\n",
    "print(f\"Percentage of Products Ordered: {round(percentage_ordered)}%\")\n",
    "\n",
    "\n",
    "#update the inventory\n",
    "#Instead of updating the inventory by subtracting 1 from the quantity of each product, only do it for the products that were ordered (those in \"customer_orders\").\n",
    "\n",
    "for product in customer_orders:\n",
    "    if product in inventory and inventory[product] > 0:\n",
    "        inventory[product] -= 1\n",
    "    elif product in inventory and inventory[product] <= 0:\n",
    "            print(f\"There is not enough {product} on stock to fulfill the order!\")\n",
    "\n",
    "print(f\"Updated inventory after the order: {inventory}\")\n"
   ]
  },
  {
   "cell_type": "code",
   "execution_count": null,
   "id": "74746a82-98cb-4cdc-9dd5-180d53a41ffd",
   "metadata": {},
   "outputs": [],
   "source": []
  }
 ],
 "metadata": {
  "kernelspec": {
   "display_name": "Python 3 (ipykernel)",
   "language": "python",
   "name": "python3"
  },
  "language_info": {
   "codemirror_mode": {
    "name": "ipython",
    "version": 3
   },
   "file_extension": ".py",
   "mimetype": "text/x-python",
   "name": "python",
   "nbconvert_exporter": "python",
   "pygments_lexer": "ipython3",
   "version": "3.12.7"
  }
 },
 "nbformat": 4,
 "nbformat_minor": 5
}
